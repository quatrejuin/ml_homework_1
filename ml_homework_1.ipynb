{
 "cells": [
  {
   "cell_type": "markdown",
   "metadata": {},
   "source": [
    "- IFT6390 Fundamentals of Machine Learning\n",
    "- Professor: Ioannis Mitliagkas\n",
    "- Homework 1\n",
    "- Students: Jiechen Wu, David"
   ]
  },
  {
   "cell_type": "markdown",
   "metadata": {
    "ExecuteTime": {
     "end_time": "2018-09-16T16:05:29.407665Z",
     "start_time": "2018-09-16T16:05:29.404395Z"
    }
   },
   "source": [
    "#  1. Small exercise on probabilities [10 points]"
   ]
  },
  {
   "cell_type": "markdown",
   "metadata": {},
   "source": [
    "A few years ago, a study was carried out with doctors in the United States, in order to measure their \"probabilistic intuition\". It included the following question:\n",
    "\n",
    "A percentage of 1.5% of women in their 40s who take a routine test (mammogram) have breast cancer. Among women that have breast cancer, there is a 87% chance that the test is positive. In women that do not have breast cancer, there is a probability of 9.6% that the test is positive.\n",
    "\n",
    "A woman in her forties who has passed this routine test receives a positive test result. What is the probability that it is actually breast cancer?\n",
    "- A) more than 90%\n",
    "- B) between 70% and 90%\n",
    "- C) between 50% and 70%\n",
    "- D) between 30% and 50%\n",
    "- E) between 10% and 30%\n",
    "- F) less than 10%\n",
    "\n",
    "95% of doctors surveyed responded B). What do you think? Formalize the question and calculate the exact probability. Hint: use Bayes rule ..."
   ]
  },
  {
   "cell_type": "markdown",
   "metadata": {},
   "source": [
    "**Answer**:"
   ]
  },
  {
   "cell_type": "markdown",
   "metadata": {
    "ExecuteTime": {
     "end_time": "2018-09-16T16:15:04.022051Z",
     "start_time": "2018-09-16T16:15:04.010317Z"
    }
   },
   "source": [
    "Denote the probability of cancer happening as $p(X=True)$, and\n",
    "denote the probability of test saying the result is positive as $p(T=Positive)$\n",
    "\n",
    "We are given:\n",
    "$$p(X=True)=0.015$$\n",
    "\n",
    "$$p(T = Negative | X=True) = 1 - p(T = Positive | X=True) = 1 - 0.87 = 0.13$$\n",
    "$$p(T = Negative | X=False) = 1 - p(T = Positive | X=False) = 1 - 0.096 = 0.904$$\n",
    "\n",
    "|                 | X= True | X= False |\n",
    "| --------------- | ----------- | ------------ |\n",
    "| T = Positive | 0.87        | 0.096        |\n",
    "| T = Negative | 0.13        | 0.904        |\n",
    "\n"
   ]
  },
  {
   "cell_type": "markdown",
   "metadata": {
    "ExecuteTime": {
     "end_time": "2018-09-16T16:25:11.308631Z",
     "start_time": "2018-09-16T16:25:11.303111Z"
    }
   },
   "source": [
    "We are required to calculate $p(X=True|T=Positive)$"
   ]
  },
  {
   "cell_type": "markdown",
   "metadata": {
    "ExecuteTime": {
     "end_time": "2018-09-16T16:32:42.414420Z",
     "start_time": "2018-09-16T16:32:42.400771Z"
    }
   },
   "source": [
    "Based on Bayes rule:\n",
    "    $$ \\begin{align*}\n",
    "p( X=True|T=Positive) &=\\frac{p( T=Positive|X\\ =True) p( X=True)}{p( T=Positive)}\n",
    "\\end{align*}$$"
   ]
  },
  {
   "cell_type": "markdown",
   "metadata": {},
   "source": [
    "While\n",
    "\n",
    "$$\\begin{align*}\n",
    "p(T=Positive) &= \\sum_{x\\in\\{True,False\\}}{p( T=Positive,x)} \\\\\n",
    "&= \\sum_{x\\in\\{True,False\\}}{p( T=Positive|x)p(x)} \\\\\n",
    "&=0.87\\cdot0.015+0.096\\cdot(1-0.015)\n",
    "\\end{align*}\n",
    "$$"
   ]
  },
  {
   "cell_type": "markdown",
   "metadata": {},
   "source": [
    "Plug the numbers in:\n",
    "$$ \\begin{align*}\n",
    "p( X=True|Test=Positive) &=\\frac{0.87\\cdot 0.015}{0.87\\cdot0.015+0.096\\cdot(1-0.015)}\\\\\n",
    "&=0.121\n",
    "\\end{align*}$$"
   ]
  },
  {
   "cell_type": "code",
   "execution_count": 1,
   "metadata": {
    "ExecuteTime": {
     "end_time": "2018-09-25T01:46:17.786715Z",
     "start_time": "2018-09-25T01:46:17.771765Z"
    }
   },
   "outputs": [
    {
     "data": {
      "text/plain": [
       "0.12127125731809309"
      ]
     },
     "execution_count": 1,
     "metadata": {},
     "output_type": "execute_result"
    }
   ],
   "source": [
    "0.87*0.015/(0.87*0.015+0.096*(1-0.015))"
   ]
  },
  {
   "cell_type": "markdown",
   "metadata": {},
   "source": [
    "# 2. Curse of dimensionality and geometric intuition in higher dimensions [20 points]\n",
    "\n",
    "#### 1. We consider a hyper-cube in dimension d (this is a generalization of the 2D square and the 3D cube) with side length c (which can be expressed in cm for example). What is the volume V of this hypercube?"
   ]
  },
  {
   "cell_type": "markdown",
   "metadata": {},
   "source": [
    "**Answer**:\n",
    "\n",
    "the volume $$V=c^d$$"
   ]
  },
  {
   "cell_type": "markdown",
   "metadata": {},
   "source": [
    "#### 2. We deﬁne a random vector X of dimension d (x ∈ $R^d$ ) distributed uniformly within the hypercube (the probability density p(x) = 0 for all x outside the cube). What is the probability density function p(x) for x inside the cube? Indicate which property(ies) of probability densities functions allow you to calculate this result."
   ]
  },
  {
   "cell_type": "markdown",
   "metadata": {
    "ExecuteTime": {
     "end_time": "2018-09-16T17:48:40.121269Z",
     "start_time": "2018-09-16T17:48:40.100688Z"
    }
   },
   "source": [
    "**Answer**:\n",
    "\n",
    "the probability density function $$p(x)=\\frac{1}{c^d}$$\n",
    "\n",
    "The area that is covered under the curve that is produced by this density function and the x- axis is always equal to 1, when it is evaluated over the variable’s domain values. This property of probability densities functions allow us to calculate this result.\n",
    "\n",
    "We take a look at f(x) in dimension 1. \n",
    "\n",
    "$$\\int_{-\\infty}^{\\infty}p(x)dx  = 1 $$\n",
    "$$\\int_{-\\infty}^{\\infty}p(x)dx =\\int_{-\\infty}^{0}p(x)dx + \\int_{0}^{c}p(x)dx + \\int_{c}^{\\infty}p(x)dx$$\n",
    "\n",
    "And we are told p(x)=0 for all x outside the cube, so $\\int_{-\\infty}^{0}p(x)dx$ and $\\int_{0}^{\\infty}p(x)dx$ are zero.\n",
    "\n",
    "so $$ \\int_{0}^{c}p(x)dx = 1$$\n",
    "\n",
    "Since it's a uniform distribution. Let p(x) eqaul to a constant t.\n",
    "\n",
    "So  $$ \\int_{0}^{c}tdx = 1$$.\n",
    "\n",
    "Because $\\int tdx = tx+k$ ,in which $k$ is a constant. So $ \\int_{0}^{c}tdx = \\left[tx+k\\right]_{0}^{c}=tc $. Then $t = \\frac{1}{c}$. Then we have $p(x) = t = \\frac{1}{c}$\n",
    "\n",
    "Then for the dimension d. We may get the p(x) analogously:\n",
    "\n",
    "$$\\int_{-\\infty}^{\\infty}\\int_{-\\infty}^{\\infty}\\dots\\int_{-\\infty}^{\\infty}{p(x)dx_1dx_2\\dots dx_d} = 1 $$\n",
    "\n",
    "$$p(x)=\\frac{1}{c^d}$$"
   ]
  },
  {
   "cell_type": "markdown",
   "metadata": {},
   "source": [
    "#### 3. Consider the outter shell (border) of the hypercube of width 3% of c (covering the part of the hypercube extending from the faces of the cube and 0.03c inwards). For example, if c = 100cm, the border will be 3cm (left, right, top, etc ...) and will delimit this way a second (inner) hypercube of side 100−3−3 = 94cm. If we generate a point x according to the previously deﬁned probability distribution (by sampling), what is the probability that it falls in the border area? What is the probability that it falls in the smaller hypercube?"
   ]
  },
  {
   "cell_type": "markdown",
   "metadata": {},
   "source": [
    "**Answer**:\n",
    "- The volumn of the smaller hypercube = $(0.94c)^d$ = $0.94^dc^d$\n",
    "- The volumn of the outter shell = $c^d - 0.94^dc^d$ = $(1-0.94^d)c^d$\n",
    "\n",
    "So\n",
    "- The probability that it falss in the smaller hypercube = $\\int_{x \\in smaller\\ hypercube}{p(x)dx}$ = $0.94^dc^d\\cdot \\frac{1}{c^d}$ = $0.94^d$\n",
    "- The probability that it falss in the border area = $\\int_{x \\in border}{p(x)dx}$ = $1-\\int_{x \\in smaller\\ hypercube}{p(x)dx}$ = $1-0.94^d$"
   ]
  },
  {
   "cell_type": "markdown",
   "metadata": {},
   "source": [
    "#### 4. Numerically calculate the probability that x will fall in the narrow border for the following values of d: 1, 2, 3, 5, 10, 100, 1000."
   ]
  },
  {
   "cell_type": "markdown",
   "metadata": {
    "ExecuteTime": {
     "end_time": "2018-09-16T21:28:15.587172Z",
     "start_time": "2018-09-16T21:28:15.581667Z"
    }
   },
   "source": [
    "**Answer:**\n",
    "\n",
    "Plug different $d$ in the formular:\n",
    "$$\\int_{x \\in border}{p(x)dx} = 1-0.94^d$$\n",
    "\n",
    "| d    | probability in border |\n",
    "| ---- | --------------------- |\n",
    "| 1    | 0.060                 |\n",
    "| 2    | 0.116                 |\n",
    "| 3    | 0.169                 |\n",
    "| 5    | 0.266                 |\n",
    "| 10   | 0.461                 |\n",
    "| 100  | 0.998                 |\n",
    "| 1000 | 1.000                 |"
   ]
  },
  {
   "cell_type": "code",
   "execution_count": 2,
   "metadata": {
    "ExecuteTime": {
     "end_time": "2018-09-25T01:46:18.744626Z",
     "start_time": "2018-09-25T01:46:18.736556Z"
    }
   },
   "outputs": [
    {
     "name": "stdout",
     "output_type": "stream",
     "text": [
      "Probability in border:\n",
      "d=\t1, \t\tp=\t0.060\n",
      "d=\t2, \t\tp=\t0.116\n",
      "d=\t3, \t\tp=\t0.169\n",
      "d=\t5, \t\tp=\t0.266\n",
      "d=\t10, \t\tp=\t0.461\n",
      "d=\t100, \t\tp=\t0.998\n",
      "d=\t1000, \t\tp=\t1.000\n"
     ]
    }
   ],
   "source": [
    "print(\"Probability in border:\")\n",
    "for d in [1, 2, 3, 5, 10, 100, 1000]:\n",
    "    print(\"d=\\t{}, \\t\\tp=\\t{:.3f}\".format(d,1-0.94**d))"
   ]
  },
  {
   "cell_type": "markdown",
   "metadata": {},
   "source": [
    "#### 5. What do you conclude about the distribution of points in higher dimensions, which is contrary to our intuition in smaller dimensions?"
   ]
  },
  {
   "cell_type": "markdown",
   "metadata": {},
   "source": [
    "**Answer:**\n",
    "\n"
   ]
  },
  {
   "cell_type": "markdown",
   "metadata": {
    "ExecuteTime": {
     "end_time": "2018-09-16T21:48:59.412263Z",
     "start_time": "2018-09-16T21:48:59.404081Z"
    }
   },
   "source": [
    "$$\\lim_{d\\rightarrow+\\infty}{1-0.94^d} = 1$$\n",
    "\n",
    "Even the point fall in the border with a small probability in small dimensions, the probability will grow quickly and tend to be 1 in higher dimensions."
   ]
  },
  {
   "cell_type": "markdown",
   "metadata": {},
   "source": [
    "# 3. Parametric Gaussian density estimation, v.s. Parzen window density estimation [35 points]\n",
    "\n",
    "In this question we consider a dataset D = {$x^{(1)} , . . . , x^{(n)}$} with x ∈ $R^d$ .\n",
    "\n",
    "#### 1. Suppose we have trained the parameters of an isotropic Gaussian density function on D (by maximizing the likelihood) in order to estimate the probability density function.\n",
    "\n",
    "##### (a) Name these parameters and indicate their dimension."
   ]
  },
  {
   "cell_type": "markdown",
   "metadata": {},
   "source": [
    "**Answer:**\n",
    "\n",
    "We need to estimate mean vector $\\mu$ and the covariance matrix $\\Sigma$, specifically it's an isotropic Gaussian density function. so $\\Sigma = \\sigma^2 I$.\n",
    "\n",
    "We have to estimate:\n",
    "\n",
    "- mean vector $\\mu \\in R^d$\n",
    "- covariance matrix $\\Sigma \\in R^{d\\times d}$, $\\sigma \\in R$\n"
   ]
  },
  {
   "cell_type": "markdown",
   "metadata": {},
   "source": [
    "##### (b) If we learn these parameters using the principle of maximum likelihood estimation, express the formula which will give us the value of the optimal parameters as a function of the data points in D — indicate only the formula that calculates the result, you are not asked to rederive it (the formulas for the maximum likelihood estimator can be found at the end of slide set number 5 on the Gaussian distribution)."
   ]
  },
  {
   "cell_type": "markdown",
   "metadata": {},
   "source": [
    "**Answer:**\n",
    "\n",
    "$$\\mu =\\frac{1}{n}\\sum_{t=1}^{n}{x^{(t)}}$$\n",
    "$$\\Sigma = \\frac{1}{n}\\sum_{t=1}^{n}{(x^{(t)}-\\mu)(x^{(t)}-\\mu)^T}$$\n"
   ]
  },
  {
   "cell_type": "markdown",
   "metadata": {},
   "source": [
    "We derive it using mle.  likelihood on $\\hat{\\ p}(x)$, \n",
    "\n",
    "$L(x^{(1)},x^{(2)},...,x^{(n)};\\mu,\\sigma)= \\prod_{t=1}^{n}{\\frac{1}{(2\\pi)^{d/2}\\sigma^d}\\exp(-\\frac{(x^{(t)}-\\mu)^T(x^{(t)}-\\mu)}{2\\sigma^2}) }$\n",
    "\n",
    "We use log likelihood \n",
    "$l = ln(L(x^{(1)},x^{(2)},...,x^{(n)};\\mu,\\sigma))$\n",
    "\n",
    "\\begin{align} \n",
    "l(x^{(1)},x^{(2)},...,x^{(n)};\\mu,\\sigma) &= \\sum_{t=1}^{n}{(-\\frac{d}{2}ln(2\\pi)-d\\cdot ln(\\sigma) -\\frac{(x^{(t)}-\\mu)^T(x^{(t)}-\\mu)}{2\\sigma^2})} \\\\\n",
    "\\frac{\\partial ln(\\hat{\\ p}(x))}{\\partial \\sigma} &= \\sum_{t=1}^{n}{(-\\frac{d}{\\sigma}-(-2)\\cdot\\frac{(x^{(t)}-\\mu)^T(x^{(t)}-\\mu)}{2\\sigma^3})} \\\\ \n",
    "& = \\sum_{t=1}^{n}{(-\\frac{d}{\\sigma} -(-2) \\cdot \\frac{(x^{(t)}-\\mu)^T(x^{(t)}-\\mu)}{2\\sigma^3})} \\\\ \n",
    "&=\\sum_{t=1}^{n}{(-\\frac{d}{\\sigma} +   \\frac{(x^{(t)}-\\mu)^T(x^{(t)}-\\mu)}{\\sigma^3})}\n",
    "\\end{align}"
   ]
  },
  {
   "cell_type": "markdown",
   "metadata": {},
   "source": [
    "Let $\\frac{\\partial ln(\\hat{\\ p}(x))}{\\partial \\sigma} = 0$\n",
    "\n",
    "We get \n",
    "$$\n",
    "\\begin{align}\n",
    "\\sum_{t=1}^{n}{(-\\frac{d}{\\sigma} +  \\frac{(x^{(t)}-\\mu)^T(x^{(t)}-\\mu)}{\\sigma^3})} = 0 \\\\\n",
    "-n\\frac{d}{\\sigma}+\\sum_{t=1}^{n}{(\\frac{(x^{(t)}-\\mu)^T(x^{(t)}-\\mu)}{\\sigma^3})} = 0 \\\\\n",
    "-nd+\\frac{1}{\\sigma^2}\\sum_{t=1}^{n}{( (x^{(t)}-\\mu)^T(x^{(t)}-\\mu))} = 0\n",
    "\\end{align}\n",
    "$$\n",
    "\n",
    "\n",
    "Then\n",
    "$$\\sigma^2 = \\frac{1}{nd}\\sum_{t=1}^{n}{(x^{(t)}-\\mu)^T(x^{(t)}-\\mu)}$$"
   ]
  },
  {
   "cell_type": "markdown",
   "metadata": {},
   "source": [
    "##### (c) What is the algorithmic complexity of this training method, i.e. of the method calculating these parameters?"
   ]
  },
  {
   "cell_type": "markdown",
   "metadata": {},
   "source": [
    "**Answer:**\n",
    "\n",
    "- To calculate $\\mu$ we need to go thourgh the $n$ examples over all dimensions $d$. So it's $O(nd)$\n",
    "- To calculate $\\Sigma$ we need to go thourgh the $n$ examples and work out the dot product of two $d$ dimention vectors. So it's $O(nd)$"
   ]
  },
  {
   "cell_type": "markdown",
   "metadata": {},
   "source": [
    "##### (d) For a test point x, write the function that will give the probability density predicted at point x: $\\hat{\\ p}_{gauss−isotrop}(x)=$?"
   ]
  },
  {
   "cell_type": "markdown",
   "metadata": {
    "ExecuteTime": {
     "end_time": "2018-09-18T11:36:27.224428Z",
     "start_time": "2018-09-18T11:36:27.086969Z"
    }
   },
   "source": [
    "**Answer:**\n",
    "\n",
    "$$\\hat{\\ p}_{gauss−isotrop}(x)= \\frac{1}{(2\\pi)^{d/2}\\sigma^d}\\exp(-\\frac{(x-\\mu)^T(x-\\mu)}{2\\sigma^2}) $$"
   ]
  },
  {
   "cell_type": "markdown",
   "metadata": {},
   "source": [
    "##### (e) What is the algorithmic complexity for calculating this prediction at each new point x?"
   ]
  },
  {
   "cell_type": "markdown",
   "metadata": {},
   "source": [
    "**Answer:**\n",
    "\n",
    "The complexity is $O(d)$"
   ]
  },
  {
   "cell_type": "markdown",
   "metadata": {},
   "source": [
    "#### 2. Now consider that one uses Parzen windows with an isotropic Gaussian kernel of width (standard deviation) σ instead, and that these Parzen windows were trained on D.\n",
    "\n",
    "##### (a) Suppose that the user has ﬁxed σ. What does the \"training/learning\" phase of these Parzen windows consist of?"
   ]
  },
  {
   "cell_type": "markdown",
   "metadata": {},
   "source": [
    "**Answer:**\n",
    "\n",
    "We just load the data in the training."
   ]
  },
  {
   "cell_type": "markdown",
   "metadata": {},
   "source": [
    "#####  (b) For a test point x, write in a single detailed formula (i.e. with exponentials), the function that will give the probability density predicted at point x: $\\hat{\\ p}_{Parzen} (x) =$?"
   ]
  },
  {
   "cell_type": "markdown",
   "metadata": {},
   "source": [
    "**Answer:**\n",
    "\n",
    "$$\\hat{\\ p}_{Parzen} (x) =\\frac{1}{n\\sqrt{2\\pi}\\sigma}\\sum_{t=1}^{n}\\exp(-\\frac{(x-x^{(t)})^T(x-x^{(t)})}{2\\sigma^2})$$"
   ]
  },
  {
   "cell_type": "markdown",
   "metadata": {},
   "source": [
    "##### (c) What is the algorithmic complexity for calculating this prediction at each new point x?"
   ]
  },
  {
   "cell_type": "markdown",
   "metadata": {},
   "source": [
    "**Answer:**\n",
    "\n",
    "The complexity is $O(nd)$"
   ]
  },
  {
   "cell_type": "markdown",
   "metadata": {},
   "source": [
    "#### 3. Capacity/Expressivity\n",
    "\n",
    "##### (a) Which one of these two approaches (parametric Gaussian v.s. Parzen Gaussian kernel) has the highest capacity (in other words, higher expressivity)? Explain."
   ]
  },
  {
   "cell_type": "markdown",
   "metadata": {},
   "source": [
    "**Answer:**\n",
    "\n",
    "Parzen Gaussian kernel has the highest capacity. \n",
    "\n",
    "Generally, if there are more parameters in the model, than more capacity we will have. In parametric Gaussian, we have $d+1$ parameters for the isotropic Gaussian. While in Parzen Gaussian kernel, we memorize all the training data $n$. Normally, the $n>>d+1$ is obvious. "
   ]
  },
  {
   "cell_type": "markdown",
   "metadata": {},
   "source": [
    "##### (b) With which one of these approaches, and in which scenario, are we likely to be over-ﬁtting (i.e. memorizing the noise in our data)?"
   ]
  },
  {
   "cell_type": "markdown",
   "metadata": {},
   "source": [
    "**Answer:**\n",
    "\n",
    "With Parzen Gaussian kernel,when $\\sigma$ is small, it's like the window size is quite small.Thus the model is more likely to be over-fitting."
   ]
  },
  {
   "cell_type": "markdown",
   "metadata": {},
   "source": [
    "##### (c) The value σ in Parzen windows is usually treated as a hyperparameter, whereas for parametric Gaussian density estimation it is usually treated as a parameter. Why?"
   ]
  },
  {
   "cell_type": "markdown",
   "metadata": {},
   "source": [
    "**Answer:**\n",
    "\n",
    "Because we learn the $\\sigma$ from the data when we use parametric Gaussian, but we should fix it before the training in Parzen windows."
   ]
  },
  {
   "cell_type": "markdown",
   "metadata": {},
   "source": [
    "#### 4. Now consider parametric density estimation with a diagonal Gaussian density function.\n",
    "\n",
    "##### (a) Express the equation of a diagonal Gaussian density in $R^d$ . Specify what are its parameters and their dimensions."
   ]
  },
  {
   "cell_type": "markdown",
   "metadata": {},
   "source": [
    "$$\\begin{align}\n",
    "p(x;\\mu,\\Sigma) &= \\frac{1}{(2\\pi)^{d/2}\\sqrt{|\\Sigma|}}exp{[-0.5(x-\\mu)^T\\Sigma^{-1}(x-\\mu)]} \\\\\n",
    "&\\begin{array}{l}\n",
    " &=\\frac{1}{(2\\pi)^{d/2} \\begin{vmatrix}\n",
    "\\sigma ^{2}_{1} & &\\\\\n",
    " & \\ddots &\\\\\n",
    "  &  &\\sigma ^{2}_{d}\\\\\n",
    "\\end{vmatrix}^{1/2}}\\exp\\left( -\\frac{1}{2}\\begin{bmatrix}\n",
    "x_{1} -\\mu _{1}\\\\\n",
    "\\vdots\\\\\n",
    "x_{d} -\\mu _{d}\n",
    "\\end{bmatrix}^{T}\\begin{bmatrix}\n",
    "\\sigma ^{2}_{1} & &\\\\\n",
    " & \\ddots &\\\\\n",
    "  &  &\\sigma ^{2}_{d}\\\\\n",
    "\\end{bmatrix}^{-1}\\begin{bmatrix}\n",
    "x_{1} -\\mu _{1}\\\\\n",
    "\\vdots\\\\\n",
    "x_{d} -\\mu _{d}\n",
    "\\end{bmatrix}\\right)\\\\\n",
    "\\end{array}\n",
    "\\end{align}$$\n"
   ]
  },
  {
   "cell_type": "markdown",
   "metadata": {},
   "source": [
    "\n",
    "- mean vector $\\mu \\in R^d$\n",
    "- covariance matrix $\\Sigma \\in R^{d\\times d}$, and since it's diagonal, we have \n",
    "\n",
    "$$ \\Sigma = \n",
    "\\begin{bmatrix}\n",
    "\\sigma ^{2}_{1} &  &  & \\\\\n",
    " & \\sigma ^{2}_{2} &  & \\\\\n",
    " &  & \\ddots  & \\\\\n",
    " &  &  & \\sigma ^{2}_{d}\n",
    "\\end{bmatrix}$$\n",
    "\n",
    "in which $\\sigma ^{2}_{1}, \\sigma ^{2}_{2}, \\cdots, \\sigma ^{2}_{d} \\in R$"
   ]
  },
  {
   "cell_type": "markdown",
   "metadata": {},
   "source": [
    "##### (b) Show that the components of a random vector following a diagonal Gaussian distribution are independent random variables."
   ]
  },
  {
   "cell_type": "markdown",
   "metadata": {},
   "source": [
    "**Answer:**\n",
    "\n",
    "Consider the simple case where n = 2,\n",
    "and where the covariance matrix Σ is diagonal, i.e.,\n",
    "\n",
    "$$x=\\ \\begin{bmatrix}\n",
    "x_{1}\\\\\n",
    "x_{2}\n",
    "\\end{bmatrix} \\ \\ \\ \\ \\mu =\\begin{bmatrix}\n",
    "\\mu _{1}\\\\\n",
    "\\mu _{2}\n",
    "\\end{bmatrix} \\ \\ \\ \\ \\Sigma =\\begin{bmatrix}\n",
    "\\sigma ^{2}_{1} & \\\\\n",
    " & \\sigma ^{2}_{2}\n",
    "\\end{bmatrix}$$\n",
    "\n",
    "In this case, the diagonal Gaussian distribution has the form,\n",
    "\n",
    "\n",
    "$$\\begin{align}\\begin{array}{l}\n",
    "p( x;\\ \\mu ,\\ \\Sigma ) \\ &=\\frac{1}{2\\pi \\begin{vmatrix}\n",
    "\\sigma ^{2}_{1} & \\\\\n",
    " & \\sigma ^{2}_{2}\n",
    "\\end{vmatrix}^{1/2}}\\exp\\left( -\\frac{1}{2}\\begin{bmatrix}\n",
    "x_{1} -\\mu _{1}\\\\\n",
    "x_{2} -\\mu _{2}\n",
    "\\end{bmatrix}^{T}\\begin{bmatrix}\n",
    "\\sigma ^{2}_{1} & \\\\\n",
    " & \\sigma ^{2}_{2}\n",
    "\\end{bmatrix}^{-1}\\begin{bmatrix}\n",
    "x_{1} -\\mu _{1}\\\\\n",
    "x_{2} -\\mu _{2}\n",
    "\\end{bmatrix}\\right)\\\\\n",
    "&=\\frac{1}{2\\pi \\left( \\sigma ^{2}_{1} \\cdot \\sigma ^{2}_{2} -0\\cdot 0\\right)^{1/2}}\\exp\\left( -\\frac{1}{2}\\begin{bmatrix}\n",
    "x_{1} -\\mu _{1}\\\\\n",
    "x_{2} -\\mu _{2}\n",
    "\\end{bmatrix}^{T}\\begin{bmatrix}\n",
    "\\frac{1}{\\sigma ^{2}_{1}} & \\\\\n",
    " & \\frac{1}{\\sigma ^{2}_{2}}\n",
    "\\end{bmatrix}\\begin{bmatrix}\n",
    "x_{1} -\\mu _{1}\\\\\n",
    "x_{2} -\\mu _{2}\n",
    "\\end{bmatrix}\\right)\\\\\n",
    "&=\\frac{1}{2\\pi \\sigma _{1} \\sigma _{2}}\\exp\\left( -\\frac{1}{2}\\begin{bmatrix}\n",
    "x_{1} -\\mu _{1}\\\\\n",
    "x_{2} -\\mu _{2}\n",
    "\\end{bmatrix}^{T}\\begin{bmatrix}\n",
    "\\frac{1}{\\sigma ^{2}_{1}}( x_{1} -\\mu _{1})\\\\\n",
    "\\frac{1}{\\sigma ^{2}_{2}}( x_{2} -\\mu _{2})\n",
    "\\end{bmatrix}\\right)\\\\\n",
    "&=\\frac{1}{2\\pi \\sigma _{1} \\sigma _{2}}\\exp\\left( -\\frac{1}{2\\sigma ^{2}_{1}}( x_{1} -\\mu _{1})^{2} -\\frac{1}{2\\sigma ^{2}_{2}}( x_{2} -\\mu _{2})^{2}\\right)\\\\\n",
    "&=\\frac{1}{\\sqrt{2\\pi } \\sigma _{1}}\\exp\\left( -\\frac{1}{2\\sigma ^{2}_{1}}( x_{1} -\\mu _{1})^{2}\\right) \\cdot \\frac{1}{\\sqrt{2\\pi } \\sigma _{2}}\\exp\\left( -\\frac{1}{2\\sigma ^{2}_{2}}( x_{2} -\\mu _{2})^{2}\\right)\n",
    "\\end{array}\n",
    "\\end{align}\n",
    "$$\n",
    "\n",
    "The last equation we recognize to simply be the product of two independent Gaussian densities,\n",
    "one with mean $\\mu_1$ and variance $\\sigma_1^2$, and the other with mean $\\mu_2$ and variance $\\sigma_2^2$. We can also use this method to prove the situation when dimention=d."
   ]
  },
  {
   "cell_type": "markdown",
   "metadata": {},
   "source": [
    "##### (c) Using − log p(x) as the loss, write down the equation corresponding to the empirical risk minimization on the training set D (in order to learn the parameters)."
   ]
  },
  {
   "cell_type": "markdown",
   "metadata": {},
   "source": [
    "**Answer:**\n",
    "\n",
    "\\begin{aligned}\n",
    "Loss\\ function:\\ L(p(x)) &= -\\log p(x)  \\\\\n",
    "&=-\\log \\frac{1}{(2\\pi)^{d/2}\\sqrt{\\Sigma}}\\exp(-0.5(x-\\mu)^T\\Sigma^{-1}(x-\\mu)) \\\\\n",
    "Empirical\\ risk:\\ \\hat{\\ R}(p,D) &= \\frac{1}{n}\\sum_{t=1}^{n} L(p(x^{(t)})) \\quad\n",
    "\\end{aligned}"
   ]
  },
  {
   "cell_type": "markdown",
   "metadata": {},
   "source": [
    "##### (d) Solve this equation analytically in order to obtain the optimal parameters."
   ]
  },
  {
   "cell_type": "markdown",
   "metadata": {},
   "source": [
    "**Answer:**"
   ]
  },
  {
   "cell_type": "markdown",
   "metadata": {},
   "source": [
    "\\begin{aligned}\n",
    "\\widehat{\\ R} (p,D)  &=  \\frac{1}{n}\\sum_{t=1}^{n}L(p(x^{(t)}))\\\\\n",
    "& =\\frac{1}{n}\\sum_{t=1}^{n}-\\log[\\frac{1}{(2\\pi )^{d/2}\\sqrt{\\Sigma }}\\exp (-0.5(x^{(t)}-\\mu )^{T} \\Sigma ^{-1} (x^{(t)}-\\mu ))]\\\\\n",
    " & =\\frac{1}{n}\\sum_{t=1}^{n}[-\\log\\frac{1}{(2\\pi )^{d/2}\\prod ^{d}_{i=1} \\sigma _{i}} -0.5(x^{(t)}-\\mu )^{T}\\begin{bmatrix}\n",
    "\\sigma ^{2}_{1} &  &  & \\\\\n",
    " & \\sigma ^{2}_{2} &  & \\\\\n",
    " &  & \\ddots  & \\\\\n",
    " &  &  & \\sigma ^{2}_{d} \\\\\n",
    "\\end{bmatrix}^{-1} (x^{(t)}-\\mu )\n",
    "]\\\\\n",
    " & =-\\frac{d}{2}log (2\\pi )-log \\sigma_{i} -0.5\\frac{1}{n}\\sum_{t=1}^{n}\\sum ^{d}_{i=1}\\frac{\\left( x^{(t)}_{i} -\\mu _{i}\\right)^{2}}{\\sigma ^{2}_{i}} \\\\\n",
    "\\end{aligned}"
   ]
  },
  {
   "cell_type": "markdown",
   "metadata": {},
   "source": [
    "We want the empirical risk as small as possible. The $\\mu$ and $\\sigma$ who give us the smallest $\\hat{R}$, are the optimal parameters.\n",
    "\n",
    "$$\\hat{\\mu},\\hat{\\sigma} = argmin_{\\mu,\\sigma} \\hat{R}(p,D)\\qquad   where\\ \\mu, \\sigma \\in R^d$$ \n",
    "\n",
    "So we calculate the partial derivative for $\\mu$ and $\\sigma$ and let them to 0 to get the mininum.\n"
   ]
  },
  {
   "cell_type": "markdown",
   "metadata": {},
   "source": [
    "**i)**\n",
    "\n",
    "\\begin{align}\n",
    "\\frac{\\partial\\widehat{\\ R}}{\\partial \\sigma_i}  \n",
    "& = -\\frac{1}{\\sigma _{i}} -(-2)\\cdot 0.5\\frac{1}{n}\\sum _{t=1}^{n} \\frac{\\left( x^{( t)}_{i} -\\mu _{i}\\right)^{2}}{\\sigma ^{3}_{i}} \\quad(*)\\\\\n",
    "& = -\\frac{1}{\\sigma _{i}}(1 -\\frac{1}{n\\sigma ^{2}_{i}}\\sum _{t=1}^{n} \\left( x^{( t)}_{i} -\\mu _{i}\\right)^{2})\\\\\n",
    "\\end{align}\n",
    "\n",
    "In equation (*), we don't keep the sum over d, because the other items who don't contain the specific $\\sigma_i$ will be 0.\n",
    "\n",
    "Let $\\frac{\\partial\\widehat{\\ R}}{\\partial \\sigma_i} =0$\n",
    "\n",
    "We have \n",
    "$$\\hat{\\sigma^2_i}= \\frac{1}{n}\\sum _{t=1}^{n} \\left( x^{( t)}_{i} -\\mu _{i}\\right)^{2}\\qquad with\\ 1\\leq i\\leq d$$"
   ]
  },
  {
   "cell_type": "markdown",
   "metadata": {},
   "source": [
    "**ii)**\n",
    "$$\n",
    "\\begin{align}\n",
    "\\frac{\\partial\\widehat{\\ R}}{\\partial \\mu_i} &= (-2)\\cdot (-0.5)\\frac{1}{n}\\sum_{t=1}^{n}\\frac{\\left( x^{(t)}_{i} -\\mu _{i}\\right)}{\\sigma ^{2}_{i}}\\quad(**)\\\\\n",
    "&= \\frac{1}{n}\\sum_{t=1}^{n}\\frac{ x^{(t)}_{i} -\\mu _{i}}{\\sigma ^{2}_{i}}\\\\\n",
    "\\end{align}\n",
    "$$\n",
    "\n",
    "In equation (\\*\\*), we don't keep the sum over d, because the other items who don't contain the specific $\\mu_i$  will be 0.\n",
    "\n",
    "Let $\\frac{\\partial\\widehat{\\ R}}{\\partial \\mu_i} =0$\n",
    "\n",
    "We have\n",
    "$$\\hat{\\mu_i} =\\frac{1}{n}\\sum_{t=1}^{n}{x^{(t)}_i}\\qquad with\\ 1\\leq i\\leq d$$\n"
   ]
  },
  {
   "cell_type": "markdown",
   "metadata": {
    "ExecuteTime": {
     "end_time": "2018-09-21T17:42:25.036972Z",
     "start_time": "2018-09-21T17:42:24.964528Z"
    }
   },
   "source": [
    "# 4 Practical part: density estimation[35 points]\n",
    "\n",
    "#### 1. Implement a diagonal Gaussian parametric density estimator. It will have to work for data of arbitrary dimension d. As seen in the labs, it should have a train() method to learn the parameters and a method predict() which calculates the log density."
   ]
  },
  {
   "cell_type": "code",
   "execution_count": 3,
   "metadata": {
    "ExecuteTime": {
     "end_time": "2018-09-25T01:46:21.782130Z",
     "start_time": "2018-09-25T01:46:21.628369Z"
    }
   },
   "outputs": [
    {
     "name": "stdout",
     "output_type": "stream",
     "text": [
      "mu= [ 9. 10. 11. 12.]\n",
      "sigma^2= [32. 32. 32. 32.]\n",
      "2.473661710018012e-05\n",
      "5.784370966940829e-06\n",
      "9.388960831706098e-06\n",
      "1.156946977449107e-06\n"
     ]
    }
   ],
   "source": [
    "import numpy as np\n",
    "import math\n",
    "\n",
    "class DiagonalGaussian_Est:\n",
    "\n",
    "    def __init__(self,mus,sigma_sqs):\n",
    "        if np.isscalar(mus)==1:\n",
    "            self.d =1\n",
    "        else:\n",
    "            if mus.shape[0]!= sigma_sqs.shape[0]:\n",
    "                print(\"The demension of mean should equal to covariance matrix.\")\n",
    "                return\n",
    "            self.d = mus.shape[0]\n",
    "        self.mus = mus\n",
    "        self.sigma_sqs = sigma_sqs\n",
    "\n",
    "\n",
    "    @classmethod\n",
    "    def train(self,trains):\n",
    "        mus = np.mean(trains,axis=0)\n",
    "        sigma_sqs = np.mean((trains-mus)**2,axis=0)\n",
    "        print(\"mu=\",mus)\n",
    "        print(\"sigma^2=\",sigma_sqs)\n",
    "        return DiagonalGaussian_Est(mus,sigma_sqs)\n",
    "\n",
    "    def predict(self,test):\n",
    "\n",
    "        ##           exp[ -0.5*(x-mu)'Sigma^-1 (x-mu)]\n",
    "        ##   f(x) = -------------------------------------\n",
    "        ##              (2*Pi)^(d/2) * det(Sigma)^(0.5)\n",
    "        \n",
    "        if self.d >1:\n",
    "            # det(Sigma)\n",
    "            # The determinant of a diagonal matrix is the product of it's diagonal elements.\n",
    "            det_big_sigma = np.prod(self.sigma_sqs)\n",
    "            # Sigma^-1\n",
    "            # The inverse of a diagonal matrix is the matrix contains\n",
    "            #     the inverse of the original diagonal elements.\n",
    "            inv_big_sigma = np.diag(1/self.sigma_sqs)\n",
    "            denominator = np.exp(-0.5*(test-self.mus).T@inv_big_sigma@(test-self.mus))\n",
    "        else:\n",
    "            # When d == 1\n",
    "            det_big_sigma = self.sigma_sqs\n",
    "            inv_big_sigma = 1/self.sigma_sqs\n",
    "            denominator = np.exp(-0.5*(test-self.mus).T*inv_big_sigma*(test-self.mus))\n",
    "            \n",
    "        numerator = ((2*math.pi)**(self.d/2)*det_big_sigma**(0.5))\n",
    "\n",
    "        return denominator/ numerator\n",
    "\n",
    "# Test with mu = [0,0], sigma^2 = [1,100]\n",
    "#dg=DiagonalGaussian(np.array([0,0]),np.array([1,100]))\n",
    "#test_data = np.array([1,1])\n",
    "#dg.p(test_data)\n",
    "\n",
    "# Train\n",
    "train_data = np.array([[1,2,3,4], \n",
    "                       [5,6,7,8], \n",
    "                       [9,10,11,12],\n",
    "                       [13,14,15,16],\n",
    "                       [17,18,19,20]], dtype=np.int64)\n",
    "dg=DiagonalGaussian_Est.train(train_data)\n",
    "# Test\n",
    "print(dg.predict([9,10,11,12]))\n",
    "print(dg.predict([7,6,3,9]))\n",
    "print(dg.predict([5,4,10,15]))\n",
    "print(dg.predict([16,3,4,5]))\n",
    "\n"
   ]
  },
  {
   "cell_type": "markdown",
   "metadata": {
    "ExecuteTime": {
     "end_time": "2018-09-21T17:42:25.036972Z",
     "start_time": "2018-09-21T17:42:24.964528Z"
    }
   },
   "source": [
    "#### 2. Implement a Parzen density estimator with an isotropic Gaussian kernel. It will have to work for data of arbitrary dimension d. Likewise it should have a train() method and a predict() method that computes the log density."
   ]
  },
  {
   "cell_type": "code",
   "execution_count": 3,
   "metadata": {
    "ExecuteTime": {
     "end_time": "2018-09-25T03:12:47.306533Z",
     "start_time": "2018-09-25T03:12:47.296209Z"
    }
   },
   "outputs": [
    {
     "name": "stdout",
     "output_type": "stream",
     "text": [
      "0.6254394051996159\n",
      "1.3442984091597373e-51\n",
      "3.212873979420905e-150\n",
      "0.0\n"
     ]
    }
   ],
   "source": [
    "import numpy as np\n",
    "import math\n",
    "\n",
    "class Parzen_Est:\n",
    "\n",
    "    def __init__(self):\n",
    "        if len(self.trains.shape)==1:\n",
    "            self.d =1\n",
    "        else:\n",
    "            self.d = self.trains.shape[1]\n",
    "\n",
    "    @classmethod\n",
    "    def train(self,trains,sigma=0.3):\n",
    "        self.sigma = sigma\n",
    "        self.trains = trains\n",
    "        return Parzen_Est()\n",
    "\n",
    "    def predict(self,tests):\n",
    "        # Calculate density over one example on d dimension\n",
    "        if self.d ==1:\n",
    "            denominator = np.exp(-0.5*(self.trains-tests)**2/self.sigma**2)\n",
    "            numerator = (2*math.pi)**(1/2)* self.sigma\n",
    "            # Get mean over all the training examples\n",
    "            return np.mean(denominator/numerator)\n",
    "        else:\n",
    "            denominator = np.exp(-0.5*np.sum((self.trains-tests)**2,axis=1)/self.sigma**2)\n",
    "            numerator = (2*math.pi)**(self.d/2)* self.sigma**self.d\n",
    "            # Get mean over all the training examples\n",
    "            return np.mean(denominator/numerator,axis=0)\n",
    "\n",
    "# Train\n",
    "train_data = np.array([[1,2,3,4], \n",
    "                       [5,6,7,8], \n",
    "                       [9,10,11,12],\n",
    "                       [13,14,15,16],\n",
    "                       [17,18,19,20]], dtype=np.int64)\n",
    "dg=Parzen_Est.train(train_data)\n",
    "# Test\n",
    "print(dg.predict([9,10,11,12]))\n",
    "print(dg.predict([7,6,3,9]))\n",
    "print(dg.predict([5,4,10,15]))\n",
    "print(dg.predict([16,3,4,5]))"
   ]
  },
  {
   "cell_type": "markdown",
   "metadata": {
    "ExecuteTime": {
     "end_time": "2018-09-21T17:42:25.036972Z",
     "start_time": "2018-09-21T17:42:24.964528Z"
    }
   },
   "source": [
    "#### 3. 1D densities: From the Iris dataset examples, choose a subset corresponding to one of the classes (of your choice), and one of the characteristic features, so that we will be in dimension d = 1 and produce a single graph (using the plot function) including:\n",
    "\n",
    "(a) the data points of the subset (displayed on the x axis)."
   ]
  },
  {
   "cell_type": "markdown",
   "metadata": {
    "ExecuteTime": {
     "end_time": "2018-09-21T17:42:25.036972Z",
     "start_time": "2018-09-21T17:42:24.964528Z"
    }
   },
   "source": [
    "(b) a plot of the density estimated by your parametric Gaussian estimator."
   ]
  },
  {
   "cell_type": "markdown",
   "metadata": {
    "ExecuteTime": {
     "end_time": "2018-09-21T17:42:25.036972Z",
     "start_time": "2018-09-21T17:42:24.964528Z"
    }
   },
   "source": [
    "(c) a plot of the density estimated by the Parzen estimator with a hyper-parameter σ (standard deviation) too small."
   ]
  },
  {
   "cell_type": "markdown",
   "metadata": {
    "ExecuteTime": {
     "end_time": "2018-09-21T17:42:25.036972Z",
     "start_time": "2018-09-21T17:42:24.964528Z"
    }
   },
   "source": [
    "(d) a plot of the density estimated by the Parzen estimator with the hyper-parameter σ being a little too big."
   ]
  },
  {
   "cell_type": "code",
   "execution_count": 4,
   "metadata": {
    "ExecuteTime": {
     "end_time": "2018-09-25T03:13:09.207794Z",
     "start_time": "2018-09-25T03:13:09.200563Z"
    }
   },
   "outputs": [],
   "source": [
    "import numpy as np\n",
    "from collections import Counter\n",
    "iris = np.loadtxt('./iris.txt')"
   ]
  },
  {
   "cell_type": "code",
   "execution_count": 17,
   "metadata": {
    "ExecuteTime": {
     "end_time": "2018-09-25T01:51:19.841060Z",
     "start_time": "2018-09-25T01:51:19.510891Z"
    }
   },
   "outputs": [
    {
     "name": "stdout",
     "output_type": "stream",
     "text": [
      "Populating the interactive namespace from numpy and matplotlib\n",
      "mu= 5.006\n",
      "sigma^2= 0.12176400000000002\n"
     ]
    },
    {
     "data": {
      "image/png": "[encoded data removed]",
      "text/plain": [
       "<matplotlib.figure.Figure at 0x11e93ada0>"
      ]
     },
     "metadata": {},
     "output_type": "display_data"
    }
   ],
   "source": [
    "#choose the class 1, and feature 1\n",
    "feature_1d = iris[iris[:,-1]==1,0]\n",
    "\n",
    "%pylab inline\n",
    "#pylab.hist(feature_1d)\n",
    "\n",
    "feature_1d_y = zeros(len(feature_1d))\n",
    "count = Counter(feature_1d)\n",
    "feature_1d_size = [count[x]*20 for x in feature_1d]\n",
    "# (a) the data points of the subset (displayed on the x axis).\n",
    "pylab.scatter(feature_1d,feature_1d_y, s = feature_1d_size, label=\"Data points\")\n",
    "\n",
    "\n",
    "range_x = np.linspace(min(feature_1d),max(feature_1d),100)\n",
    "dg=DiagonalGaussian_Est.train(feature_1d)\n",
    "density_est = [dg.predict(x) for x in range_x]\n",
    "# (b) a plot of the density estimated by your parametric Gaussian estimator.\n",
    "pylab.plot(range_x,density_est, label=\"Gaussian\")\n",
    "\n",
    "density_est_parzen_small=Parzen_Est.train(feature_1d,0.02)\n",
    "density_est_parzen_small = [density_est_parzen_small.predict(x) for x in range_x]\n",
    "# (c) a plot of the density estimated by the Parzen estimator with a hyper-parameter \n",
    "# σ (standard deviation) too small.\n",
    "pylab.plot(range_x,density_est_parzen_small,c=\"tab:red\",label=\"Parzen Window with $\\sigma$ too small\")\n",
    "\n",
    "dg_parzen_big=Parzen_Est.train(feature_1d,1)\n",
    "density_est_parzen_big = [dg_parzen_big.predict(x) for x in range_x]\n",
    "# (d) a plot of the density estimated by the Parzen estimator with the hyper-parameter \n",
    "# σ being a little too big.\n",
    "pylab.plot(range_x,density_est_parzen_big,c=\"tab:purple\",label=\"Parzen Window with $\\sigma$ too big\")\n",
    "\n",
    "\n",
    "dg_parzen_big=Parzen_Est.train(feature_1d,0.23)\n",
    "density_est_parzen_big = [dg_parzen_big.predict(x) for x in range_x]\n",
    "# (e) a plot of the density estimated by the Parzen estimator with the \n",
    "# hyper-parameter σ that you consider more appropriate. Use a diﬀerent color for each plot, and provide your graph with a clear legend.\n",
    "pylab.plot(range_x,density_est_parzen_big,c=\"tab:green\",label=\"Parzen Window with $\\sigma=0.23$ \")\n",
    "\n",
    "pylab.legend(bbox_to_anchor=(1.05, 1), loc=2, borderaxespad=0.)\n",
    "\n",
    "pylab.show()"
   ]
  },
  {
   "cell_type": "markdown",
   "metadata": {
    "ExecuteTime": {
     "end_time": "2018-09-21T17:42:25.036972Z",
     "start_time": "2018-09-21T17:42:24.964528Z"
    }
   },
   "source": [
    "(e) a plot of the density estimated by the Parzen estimator with the hyper-parameter σ that you consider more appropriate. Use a diﬀerent color for each plot, and provide your graph with a clear legend."
   ]
  },
  {
   "cell_type": "markdown",
   "metadata": {
    "ExecuteTime": {
     "end_time": "2018-09-21T17:42:25.036972Z",
     "start_time": "2018-09-21T17:42:24.964528Z"
    }
   },
   "source": [
    "(f) Explain how you chose your hyper-parameter σ."
   ]
  },
  {
   "cell_type": "markdown",
   "metadata": {
    "ExecuteTime": {
     "end_time": "2018-09-23T19:25:28.939598Z",
     "start_time": "2018-09-23T19:25:28.928259Z"
    }
   },
   "source": [
    "$\\sigma = 0.23$"
   ]
  },
  {
   "cell_type": "code",
   "execution_count": 6,
   "metadata": {
    "ExecuteTime": {
     "end_time": "2018-09-25T01:46:24.982571Z",
     "start_time": "2018-09-25T01:46:22.568460Z"
    }
   },
   "outputs": [
    {
     "name": "stdout",
     "output_type": "stream",
     "text": [
      "0.2351151151151151\n"
     ]
    },
    {
     "data": {
      "text/plain": [
       "[<matplotlib.lines.Line2D at 0x119d30c18>]"
      ]
     },
     "execution_count": 6,
     "metadata": {},
     "output_type": "execute_result"
    },
    {
     "data": {
      "image/png": "[encoded data removed]",
      "text/plain": [
       "<matplotlib.figure.Figure at 0x119864400>"
      ]
     },
     "metadata": {},
     "output_type": "display_data"
    }
   ],
   "source": [
    "import sys\n",
    "erm_cur = 0\n",
    "erm_list = {}\n",
    "erm_best = sys.maxsize\n",
    "sigma_best = 0\n",
    "for sigma in np.linspace(0.005,10,1000):\n",
    "    dg_parzen=Parzen_Est.train(feature_1d,sigma)\n",
    "    density_est_parzen = np.array([dg_parzen.predict(x) for x in range_x])\n",
    "    # Add the min float to Avoid log(0)\n",
    "    erm_cur = np.mean(-np.log(density_est_parzen+sys.float_info.min))\n",
    "    erm_list[sigma] = erm_cur\n",
    "    if erm_cur < erm_best:\n",
    "        erm_best= erm_cur\n",
    "        sigma_best= sigma\n",
    "        \n",
    "print(sigma_best)\n",
    "pylab.plot(erm_list.keys(),erm_list.values())"
   ]
  },
  {
   "cell_type": "markdown",
   "metadata": {},
   "source": [
    "#### 4. 2D densities: Now add a second characteristic feature of Iris, in order to have entries in d = 2 and produce 4 plots, each displaying the points of the subset of the data (with the plot function ), and the contour lines of the density estimated (using the contour function):"
   ]
  },
  {
   "cell_type": "code",
   "execution_count": 6,
   "metadata": {
    "ExecuteTime": {
     "end_time": "2018-09-25T03:13:30.132200Z",
     "start_time": "2018-09-25T03:13:30.127014Z"
    }
   },
   "outputs": [],
   "source": [
    "#choose the class 1, and feature 1,2\n",
    "feature_2d = iris[iris[:,-1]==1,0:2]\n",
    "\n",
    "count = Counter([(xy[0],xy[1]) for xy in feature_2d.tolist()])\n",
    "feature_2d_size = (20*np.array(list(count.values())))\n",
    "feature_2d_size = feature_2d_size.tolist()\n",
    "\n",
    "def plot_origin_point():\n",
    "    pylab.scatter(feature_2d[:,0],feature_2d[:,1],s=feature_2d_size)"
   ]
  },
  {
   "cell_type": "markdown",
   "metadata": {},
   "source": [
    "(a) by the diagonal Gaussian parametric estimator."
   ]
  },
  {
   "cell_type": "code",
   "execution_count": 41,
   "metadata": {
    "ExecuteTime": {
     "end_time": "2018-09-25T02:45:30.001283Z",
     "start_time": "2018-09-25T02:45:29.312765Z"
    }
   },
   "outputs": [
    {
     "name": "stdout",
     "output_type": "stream",
     "text": [
      "mu= [5.006 3.428]\n",
      "sigma^2= [0.121764 0.140816]\n"
     ]
    },
    {
     "data": {
      "text/plain": [
       "<matplotlib.contour.QuadContourSet at 0x11ea7eeb8>"
      ]
     },
     "execution_count": 41,
     "metadata": {},
     "output_type": "execute_result"
    },
    {
     "data": {
      "image/png": "[encoded data removed]",
      "text/plain": [
       "<matplotlib.figure.Figure at 0x119559518>"
      ]
     },
     "metadata": {},
     "output_type": "display_data"
    }
   ],
   "source": [
    "\n",
    "dg=DiagonalGaussian_Est.train(feature_2d)\n",
    "\n",
    "\n",
    "range_x = np.linspace(np.min(feature_2d,axis=0)[0],np.max(feature_2d,axis=0)[0],100)\n",
    "range_y = np.linspace(np.min(feature_2d,axis=0)[1],np.max(feature_2d,axis=0)[1],100)\n",
    "\n",
    "range_xy=[]\n",
    "for i in range(0,100):\n",
    "    range_xy += [[]]\n",
    "    for j in range(0,100):\n",
    "        range_xy[i]  += [[range_x[j],range_y[i]]]\n",
    "\n",
    "density_est = np.empty((100,100))\n",
    "for i in range(0,100): \n",
    "    for j in range(0,100):\n",
    "        density_est[i][j] = dg.predict(range_xy[i][j])\n",
    "\n",
    "#pylab.axes().set_aspect('equal', 'datalim')\n",
    "# (a) by the diagonal Gaussian parametric estimator.\n",
    "plot_origin_point()\n",
    "pylab.contour(range_x,range_y,density_est)"
   ]
  },
  {
   "cell_type": "markdown",
   "metadata": {
    "ExecuteTime": {
     "end_time": "2018-09-24T00:43:58.474797Z",
     "start_time": "2018-09-24T00:43:58.462110Z"
    }
   },
   "source": [
    "(b) by the Parzen estimator with the hyper-parameter σ (standard deviation ) being too small."
   ]
  },
  {
   "cell_type": "code",
   "execution_count": 9,
   "metadata": {
    "ExecuteTime": {
     "end_time": "2018-09-25T01:46:26.173842Z",
     "start_time": "2018-09-25T01:46:25.598965Z"
    }
   },
   "outputs": [
    {
     "data": {
      "text/plain": [
       "<matplotlib.contour.QuadContourSet at 0x119dd6400>"
      ]
     },
     "execution_count": 9,
     "metadata": {},
     "output_type": "execute_result"
    },
    {
     "data": {
      "image/png": "[encoded data removed]",
      "text/plain": [
       "<matplotlib.figure.Figure at 0x10f9d3550>"
      ]
     },
     "metadata": {},
     "output_type": "display_data"
    }
   ],
   "source": [
    "dg=Parzen_Est.train(feature_2d,0.05)\n",
    "\n",
    "\n",
    "range_x = np.linspace(np.min(feature_2d,axis=0)[0],np.max(feature_2d,axis=0)[0],100)\n",
    "range_y = np.linspace(np.min(feature_2d,axis=0)[1],np.max(feature_2d,axis=0)[1],100)\n",
    "\n",
    "range_xy=[]\n",
    "for i in range(0,100):\n",
    "    range_xy += [[]]\n",
    "    for j in range(0,100):\n",
    "        # x is in the row of range_xy\n",
    "        range_xy[i]  += [[range_x[j],range_y[i]]]\n",
    "\n",
    "density_est = np.empty((100,100))\n",
    "import pdb\n",
    "for j in range(0,100): \n",
    "    for i in range(0,100):\n",
    "        density_est[i][j] = dg.predict(range_xy[i][j])\n",
    "\n",
    "\n",
    "#pylab.axes().set_aspect('equal', 'datalim')\n",
    "plot_origin_point()\n",
    "pylab.contour(range_x,range_y,density_est)"
   ]
  },
  {
   "cell_type": "markdown",
   "metadata": {
    "ExecuteTime": {
     "end_time": "2018-09-24T00:43:58.474797Z",
     "start_time": "2018-09-24T00:43:58.462110Z"
    }
   },
   "source": [
    "(c) by the Parzen estimator with the hyper-parameter σ being a little too big."
   ]
  },
  {
   "cell_type": "code",
   "execution_count": 42,
   "metadata": {
    "ExecuteTime": {
     "end_time": "2018-09-25T02:45:42.464296Z",
     "start_time": "2018-09-25T02:45:41.920896Z"
    }
   },
   "outputs": [
    {
     "data": {
      "text/plain": [
       "<matplotlib.contour.QuadContourSet at 0x119e6b898>"
      ]
     },
     "execution_count": 42,
     "metadata": {},
     "output_type": "execute_result"
    },
    {
     "data": {
      "image/png": "[encoded data removed]",
      "text/plain": [
       "<matplotlib.figure.Figure at 0x122554be0>"
      ]
     },
     "metadata": {},
     "output_type": "display_data"
    }
   ],
   "source": [
    "dg=Parzen_Est.train(feature_2d,100)\n",
    "\n",
    "\n",
    "range_x = np.linspace(np.min(feature_2d,axis=0)[0],np.max(feature_2d,axis=0)[0],100)\n",
    "range_y = np.linspace(np.min(feature_2d,axis=0)[1],np.max(feature_2d,axis=0)[1],100)\n",
    "\n",
    "range_xy=[]\n",
    "for i in range(0,100):\n",
    "    range_xy += [[]]\n",
    "    for j in range(0,100):\n",
    "        range_xy[i]  += [[range_x[j],range_y[i]]]\n",
    "\n",
    "density_est = np.empty((100,100))\n",
    "for i in range(0,100): \n",
    "    for j in range(0,100):\n",
    "        density_est[i][j] = dg.predict(range_xy[i][j])\n",
    "\n",
    "#pylab.axes().set_aspect('equal', 'datalim')\n",
    "plot_origin_point()\n",
    "pylab.contour(range_x,range_y,density_est)"
   ]
  },
  {
   "cell_type": "markdown",
   "metadata": {
    "ExecuteTime": {
     "end_time": "2018-09-24T00:43:58.474797Z",
     "start_time": "2018-09-24T00:43:58.462110Z"
    }
   },
   "source": [
    "(d) by the Parzen estimator with the hyper-parameter σ that you consider more appropriate."
   ]
  },
  {
   "cell_type": "code",
   "execution_count": 43,
   "metadata": {
    "ExecuteTime": {
     "end_time": "2018-09-25T02:45:47.112945Z",
     "start_time": "2018-09-25T02:45:46.383454Z"
    }
   },
   "outputs": [
    {
     "data": {
      "text/plain": [
       "<matplotlib.contour.QuadContourSet at 0x1225c9358>"
      ]
     },
     "execution_count": 43,
     "metadata": {},
     "output_type": "execute_result"
    },
    {
     "data": {
      "image/png": "[encoded data removed]",
      "text/plain": [
       "<matplotlib.figure.Figure at 0x11f82f2b0>"
      ]
     },
     "metadata": {},
     "output_type": "display_data"
    }
   ],
   "source": [
    "dg=Parzen_Est.train(feature_2d,0.46)\n",
    "\n",
    "\n",
    "range_x = np.linspace(np.min(feature_2d,axis=0)[0],np.max(feature_2d,axis=0)[0],100)\n",
    "range_y = np.linspace(np.min(feature_2d,axis=0)[1],np.max(feature_2d,axis=0)[1],100)\n",
    "\n",
    "range_xy=[]\n",
    "for i in range(0,100):\n",
    "    range_xy += [[]]\n",
    "    for j in range(0,100):\n",
    "        range_xy[i]  += [[range_x[j],range_y[i]]]\n",
    "\n",
    "density_est = np.empty((100,100))\n",
    "for i in range(0,100): \n",
    "    for j in range(0,100):\n",
    "        density_est[i][j] = dg.predict(range_xy[i][j])\n",
    "\n",
    "#pylab.axes().set_aspect('equal', 'datalim')\n",
    "plot_origin_point()\n",
    "pylab.contour(range_x,range_y,density_est)"
   ]
  },
  {
   "cell_type": "markdown",
   "metadata": {
    "ExecuteTime": {
     "end_time": "2018-09-24T00:43:58.474797Z",
     "start_time": "2018-09-24T00:43:58.462110Z"
    }
   },
   "source": [
    "(e) Explain how you chose your hyper-parameter σ"
   ]
  },
  {
   "cell_type": "code",
   "execution_count": 12,
   "metadata": {
    "ExecuteTime": {
     "end_time": "2018-09-25T01:47:04.036182Z",
     "start_time": "2018-09-25T01:46:27.323686Z"
    }
   },
   "outputs": [
    {
     "name": "stdout",
     "output_type": "stream",
     "text": [
      "0.5095959595959596\n"
     ]
    },
    {
     "data": {
      "text/plain": [
       "[<matplotlib.lines.Line2D at 0x119df3668>]"
      ]
     },
     "execution_count": 12,
     "metadata": {},
     "output_type": "execute_result"
    },
    {
     "data": {
      "image/png": "[encoded data removed]",
      "text/plain": [
       "<matplotlib.figure.Figure at 0x11a1dd940>"
      ]
     },
     "metadata": {},
     "output_type": "display_data"
    }
   ],
   "source": [
    "import sys\n",
    "erm_cur = 0\n",
    "erm_list = {}\n",
    "erm_best = sys.maxsize\n",
    "sigma_best = 0\n",
    "for sigma in np.linspace(0.11,10,100):\n",
    "    dg=Parzen_Est.train(feature_2d,sigma)\n",
    "\n",
    "\n",
    "    range_x = np.linspace(np.min(feature_2d,axis=0)[0],np.max(feature_2d,axis=0)[0],100)\n",
    "    range_y = np.linspace(np.min(feature_2d,axis=0)[1],np.max(feature_2d,axis=0)[1],100)\n",
    "\n",
    "    range_xy=[]\n",
    "    for i in range(0,100):\n",
    "        range_xy += [[]]\n",
    "        for j in range(0,100):\n",
    "            range_xy[i]  += [[range_x[i],range_y[j]]]\n",
    "\n",
    "    density_est = np.empty((100,100))\n",
    "    for i in range(0,100): \n",
    "        for j in range(0,100):\n",
    "            density_est[i][j] = dg.predict(range_xy[i][j])\n",
    "\n",
    "    # Add the min float to Avoid log(0)\n",
    "    erm_cur = np.mean(-np.log(density_est+sys.float_info.min),axis=(0, 1))\n",
    "    erm_list[sigma] = erm_cur\n",
    "    if erm_cur < erm_best:\n",
    "        erm_best= erm_cur\n",
    "        sigma_best= sigma\n",
    "        \n",
    "print(sigma_best)\n",
    "pylab.plot(erm_list.keys(),erm_list.values())"
   ]
  },
  {
   "cell_type": "code",
   "execution_count": 13,
   "metadata": {
    "ExecuteTime": {
     "end_time": "2018-09-25T01:47:41.440207Z",
     "start_time": "2018-09-25T01:47:04.039614Z"
    }
   },
   "outputs": [
    {
     "name": "stdout",
     "output_type": "stream",
     "text": [
      "0.4636363636363637\n"
     ]
    },
    {
     "data": {
      "text/plain": [
       "[<matplotlib.lines.Line2D at 0x11e7f8b38>]"
      ]
     },
     "execution_count": 13,
     "metadata": {},
     "output_type": "execute_result"
    },
    {
     "data": {
      "image/png": "[encoded data removed]",
      "text/plain": [
       "<matplotlib.figure.Figure at 0x11a232390>"
      ]
     },
     "metadata": {},
     "output_type": "display_data"
    }
   ],
   "source": [
    "import sys\n",
    "erm_cur = 0\n",
    "erm_list = {}\n",
    "erm_best = sys.maxsize\n",
    "sigma_best = 0\n",
    "for sigma in np.linspace(0.4,0.55,100):\n",
    "    dg=Parzen_Est.train(feature_2d,sigma)\n",
    "\n",
    "\n",
    "    range_x = np.linspace(np.min(feature_2d,axis=0)[0],np.max(feature_2d,axis=0)[0],100)\n",
    "    range_y = np.linspace(np.min(feature_2d,axis=0)[1],np.max(feature_2d,axis=0)[1],100)\n",
    "\n",
    "    range_xy=[]\n",
    "    for i in range(0,100):\n",
    "        range_xy += [[]]\n",
    "        for j in range(0,100):\n",
    "            range_xy[i]  += [[range_x[i],range_y[j]]]\n",
    "\n",
    "    density_est = np.empty((100,100))\n",
    "    for i in range(0,100): \n",
    "        for j in range(0,100):\n",
    "            density_est[i][j] = dg.predict(range_xy[i][j])\n",
    "\n",
    "    # Add the min float to Avoid log(0)\n",
    "    erm_cur = np.mean(-np.log(density_est+sys.float_info.min),axis=(0, 1))\n",
    "    erm_list[sigma] = erm_cur\n",
    "    if erm_cur < erm_best:\n",
    "        erm_best= erm_cur\n",
    "        sigma_best= sigma\n",
    "        \n",
    "print(sigma_best)\n",
    "pylab.plot(erm_list.keys(),erm_list.values())"
   ]
  },
  {
   "cell_type": "markdown",
   "metadata": {
    "ExecuteTime": {
     "end_time": "2018-09-24T03:31:24.914147Z",
     "start_time": "2018-09-24T03:31:24.905725Z"
    }
   },
   "source": [
    "$\\sigma = 0.46$"
   ]
  },
  {
   "cell_type": "code",
   "execution_count": 38,
   "metadata": {
    "ExecuteTime": {
     "end_time": "2018-09-25T04:43:13.949874Z",
     "start_time": "2018-09-25T04:42:56.198188Z"
    }
   },
   "outputs": [
    {
     "data": {
      "text/html": [
       "<iframe id=\"igraph\" scrolling=\"no\" style=\"border:none;\" seamless=\"seamless\" src=\"https://plot.ly/~jasonjcwu/23.embed\" height=\"525px\" width=\"100%\"></iframe>"
      ],
      "text/plain": [
       "<plotly.tools.PlotlyDisplay object>"
      ]
     },
     "execution_count": 38,
     "metadata": {},
     "output_type": "execute_result"
    }
   ],
   "source": [
    "import plotly.plotly as py\n",
    "import plotly.graph_objs as go\n",
    "import numpy as np\n",
    "\n",
    "\n",
    "range_x = np.linspace(np.min(feature_2d,axis=0)[0],np.max(feature_2d,axis=0)[0],100)\n",
    "range_y = np.linspace(np.min(feature_2d,axis=0)[1],np.max(feature_2d,axis=0)[1],100)\n",
    "\n",
    "range_xy=[]\n",
    "for i in range(0,100):\n",
    "    range_xy += [[]]\n",
    "    for j in range(0,100):\n",
    "        # x is in the row of range_xy\n",
    "        range_xy[i]  += [[range_x[j],range_y[i]]]\n",
    "\n",
    "def get_parzen_est(sigma):\n",
    "    dg=Parzen_Est.train(feature_2d,sigma)\n",
    "    density_est = np.empty((100,100))\n",
    "    import pdb\n",
    "    for j in range(0,100): \n",
    "        for i in range(0,100):\n",
    "            density_est[i][j] = dg.predict(range_xy[i][j])\n",
    "    return density_est\n",
    "\n",
    "sigma_list = np.arange(0.01,1,0.05)\n",
    "\n",
    "# Create traces for all the slides\n",
    "data = [go.Contour(\n",
    "        z=get_parzen_est(sigma),\n",
    "        x= range_x,\n",
    "        y= range_y,\n",
    "        contours=dict(\n",
    "            coloring='heatmap',\n",
    "            showlabels = True,\n",
    "            labelfont = dict(\n",
    "                family = 'Raleway',\n",
    "                size = 12,\n",
    "                color = 'white',\n",
    "            )\n",
    "        ),\n",
    "        visible = False,\n",
    "    ) for sigma in sigma_list]\n",
    "\n",
    "steps = []\n",
    "for i in range(len(data)):\n",
    "    step = dict(\n",
    "        method = 'restyle',  \n",
    "        args = ['visible', [False] * len(data)],\n",
    "        label = \"{:.2f}\".format(sigma_list[i])\n",
    "    )\n",
    "    step['args'][1][i] = True # Toggle i'th trace to \"visible\"\n",
    "    steps.append(step)\n",
    "    \n",
    "data += [ go.Scatter(x=feature_2d[:,0], y=feature_2d[:,1],mode=\"markers\",visible = True ) ]\n",
    "\n",
    "sliders = [dict(\n",
    "    active = 1,\n",
    "    currentvalue = {\"prefix\": \"Sigma= \"},\n",
    "    pad = {\"t\": 50},\n",
    "    steps = steps\n",
    ")]\n",
    "\n",
    "layout = dict(sliders=sliders)\n",
    "\n",
    "fig = dict(data=data, layout=layout)\n",
    "\n",
    "py.iplot(fig, filename='Contour Slider')"
   ]
  },
  {
   "cell_type": "code",
   "execution_count": null,
   "metadata": {},
   "outputs": [],
   "source": []
  }
 ],
 "metadata": {
  "kernelspec": {
   "display_name": "Python 3",
   "language": "python",
   "name": "python3"
  },
  "language_info": {
   "codemirror_mode": {
    "name": "ipython",
    "version": 3
   },
   "file_extension": ".py",
   "mimetype": "text/x-python",
   "name": "python",
   "nbconvert_exporter": "python",
   "pygments_lexer": "ipython3",
   "version": "3.6.5"
  },
  "toc": {
   "base_numbering": 1,
   "nav_menu": {},
   "number_sections": false,
   "sideBar": true,
   "skip_h1_title": false,
   "title_cell": "Table of Contents",
   "title_sidebar": "Contents",
   "toc_cell": false,
   "toc_position": {
    "height": "calc(100% - 180px)",
    "left": "10px",
    "top": "150px",
    "width": "260px"
   },
   "toc_section_display": true,
   "toc_window_display": true
  },
  "varInspector": {
   "cols": {
    "lenName": 16,
    "lenType": 16,
    "lenVar": 40
   },
   "kernels_config": {
    "python": {
     "delete_cmd_postfix": "",
     "delete_cmd_prefix": "del ",
     "library": "var_list.py",
     "varRefreshCmd": "print(var_dic_list())"
    },
    "r": {
     "delete_cmd_postfix": ") ",
     "delete_cmd_prefix": "rm(",
     "library": "var_list.r",
     "varRefreshCmd": "cat(var_dic_list()) "
    }
   },
   "types_to_exclude": [
    "module",
    "function",
    "builtin_function_or_method",
    "instance",
    "_Feature"
   ],
   "window_display": false
  }
 },
 "nbformat": 4,
 "nbformat_minor": 2
}
